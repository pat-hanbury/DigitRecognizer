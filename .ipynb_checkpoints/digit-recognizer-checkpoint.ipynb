{
 "cells": [
  {
   "cell_type": "code",
   "execution_count": 3,
   "metadata": {},
   "outputs": [],
   "source": [
    "%matplotlib inline\n",
    "%reload_ext autoreload\n",
    "%autoreload 2"
   ]
  },
  {
   "cell_type": "code",
   "execution_count": 2,
   "metadata": {},
   "outputs": [],
   "source": [
    "import pandas as pd\n",
    "import numpy as np\n",
    "from PIL import Image\n",
    "\n",
    "import torch\n",
    "import torch.nn as nn\n",
    "from torch.utils.data.dataset import Dataset"
   ]
  },
  {
   "cell_type": "code",
   "execution_count": 11,
   "metadata": {},
   "outputs": [
    {
     "ename": "ModuleNotFoundError",
     "evalue": "No module named 'fastai'",
     "output_type": "error",
     "traceback": [
      "\u001b[1;31m---------------------------------------------------------------------------\u001b[0m",
      "\u001b[1;31mModuleNotFoundError\u001b[0m                       Traceback (most recent call last)",
      "\u001b[1;32m<ipython-input-11-02beb625e4fe>\u001b[0m in \u001b[0;36m<module>\u001b[1;34m()\u001b[0m\n\u001b[1;32m----> 1\u001b[1;33m \u001b[1;32mfrom\u001b[0m \u001b[0mfastai\u001b[0m\u001b[1;33m.\u001b[0m\u001b[0mconv_learner\u001b[0m \u001b[1;32mimport\u001b[0m \u001b[1;33m*\u001b[0m\u001b[1;33m\u001b[0m\u001b[0m\n\u001b[0m",
      "\u001b[1;31mModuleNotFoundError\u001b[0m: No module named 'fastai'"
     ]
    }
   ],
   "source": [
    "from fastai.conv_learner import *"
   ]
  },
  {
   "cell_type": "code",
   "execution_count": 4,
   "metadata": {},
   "outputs": [],
   "source": [
    "path = \"data/\"\n",
    "train_path = path + 'train.csv'\n",
    "test_path = path + 'test.csv'"
   ]
  },
  {
   "cell_type": "code",
   "execution_count": 5,
   "metadata": {},
   "outputs": [],
   "source": [
    "class DataFromCSV(Dataset):\n",
    "    def __init__(self, csv_path, height, width):\n",
    "        self.data = pd.read_csv(csv_path)\n",
    "        self.height = height\n",
    "        self.width = width\n",
    "        self.labels = np.asarray(self.data.iloc[:,0])\n",
    "    \n",
    "    def get_item(self, index, tensor = True):\n",
    "        image_label = self.labels[index]\n",
    "        #convert image to numpy array\n",
    "        img_as_np = np.asarray(self.data.iloc[index][1:]).reshape(self.height,self.width).astype('uint8')\n",
    "        img_as_tensor = torch.from_numpy(img_as_np)\n",
    "        if tensor:\n",
    "            return (img_as_tensor, image_label)\n",
    "        return (img_as_np , image_label)"
   ]
  },
  {
   "cell_type": "raw",
   "metadata": {},
   "source": []
  },
  {
   "cell_type": "code",
   "execution_count": 6,
   "metadata": {},
   "outputs": [],
   "source": [
    "dataClass = DataFromCSV(train_path, 28, 28)"
   ]
  },
  {
   "cell_type": "code",
   "execution_count": 7,
   "metadata": {},
   "outputs": [],
   "source": [
    "array = dataClass.get_item(1)"
   ]
  },
  {
   "cell_type": "code",
   "execution_count": 8,
   "metadata": {},
   "outputs": [
    {
     "data": {
      "text/plain": [
       "(tensor([[   0,    0,    0,    0,    0,    0,    0,    0,    0,    0,\n",
       "             0,    0,    0,    0,    0,    0,    0,    0,    0,    0,\n",
       "             0,    0,    0,    0,    0,    0,    0,    0],\n",
       "         [   0,    0,    0,    0,    0,    0,    0,    0,    0,    0,\n",
       "             0,    0,    0,    0,    0,    0,    0,    0,    0,    0,\n",
       "             0,    0,    0,    0,    0,    0,    0,    0],\n",
       "         [   0,    0,    0,    0,    0,    0,    0,    0,    0,    0,\n",
       "             0,    0,    0,    0,    0,    0,    0,    0,    0,    0,\n",
       "             0,    0,    0,    0,    0,    0,    0,    0],\n",
       "         [   0,    0,    0,    0,    0,    0,    0,    0,    0,    0,\n",
       "             0,    0,    0,    0,    0,    0,    0,    0,    0,    0,\n",
       "             0,    0,    0,    0,    0,    0,    0,    0],\n",
       "         [   0,    0,    0,    0,    0,    0,    0,    0,    0,    0,\n",
       "            18,   30,  137,  137,  192,   86,   72,    1,    0,    0,\n",
       "             0,    0,    0,    0,    0,    0,    0,    0],\n",
       "         [   0,    0,    0,    0,    0,    0,    0,    0,   13,   86,\n",
       "           250,  254,  254,  254,  254,  217,  246,  151,   32,    0,\n",
       "             0,    0,    0,    0,    0,    0,    0,    0],\n",
       "         [   0,    0,    0,    0,    0,    0,    0,   16,  179,  254,\n",
       "           254,  254,  254,  254,  254,  254,  254,  254,  231,   54,\n",
       "            15,    0,    0,    0,    0,    0,    0,    0],\n",
       "         [   0,    0,    0,    0,    0,    0,    0,   72,  254,  254,\n",
       "           254,  254,  254,  254,  254,  254,  254,  254,  254,  254,\n",
       "           104,    0,    0,    0,    0,    0,    0,    0],\n",
       "         [   0,    0,    0,    0,    0,    0,   61,  191,  254,  254,\n",
       "           254,  254,  254,  109,   83,  199,  254,  254,  254,  254,\n",
       "           243,   85,    0,    0,    0,    0,    0,    0],\n",
       "         [   0,    0,    0,    0,    0,    0,  172,  254,  254,  254,\n",
       "           202,  147,  147,   45,    0,   11,   29,  200,  254,  254,\n",
       "           254,  171,    0,    0,    0,    0,    0,    0],\n",
       "         [   0,    0,    0,    0,    0,    1,  174,  254,  254,   89,\n",
       "            67,    0,    0,    0,    0,    0,    0,  128,  252,  254,\n",
       "           254,  212,   76,    0,    0,    0,    0,    0],\n",
       "         [   0,    0,    0,    0,    0,   47,  254,  254,  254,   29,\n",
       "             0,    0,    0,    0,    0,    0,    0,    0,   83,  254,\n",
       "           254,  254,  153,    0,    0,    0,    0,    0],\n",
       "         [   0,    0,    0,    0,    0,   80,  254,  254,  240,   24,\n",
       "             0,    0,    0,    0,    0,    0,    0,    0,   25,  240,\n",
       "           254,  254,  153,    0,    0,    0,    0,    0],\n",
       "         [   0,    0,    0,    0,    0,   64,  254,  254,  186,    7,\n",
       "             0,    0,    0,    0,    0,    0,    0,    0,    0,  166,\n",
       "           254,  254,  224,   12,    0,    0,    0,    0],\n",
       "         [   0,    0,    0,    0,   14,  232,  254,  254,  254,   29,\n",
       "             0,    0,    0,    0,    0,    0,    0,    0,    0,   75,\n",
       "           254,  254,  254,   17,    0,    0,    0,    0],\n",
       "         [   0,    0,    0,    0,   18,  254,  254,  254,  254,   29,\n",
       "             0,    0,    0,    0,    0,    0,    0,    0,    0,   48,\n",
       "           254,  254,  254,   17,    0,    0,    0,    0],\n",
       "         [   0,    0,    0,    0,    2,  163,  254,  254,  254,   29,\n",
       "             0,    0,    0,    0,    0,    0,    0,    0,    0,   48,\n",
       "           254,  254,  254,   17,    0,    0,    0,    0],\n",
       "         [   0,    0,    0,    0,    0,   94,  254,  254,  254,  200,\n",
       "            12,    0,    0,    0,    0,    0,    0,    0,   16,  209,\n",
       "           254,  254,  150,    1,    0,    0,    0,    0],\n",
       "         [   0,    0,    0,    0,    0,   15,  206,  254,  254,  254,\n",
       "           202,   66,    0,    0,    0,    0,    0,   21,  161,  254,\n",
       "           254,  245,   31,    0,    0,    0,    0,    0],\n",
       "         [   0,    0,    0,    0,    0,    0,   60,  212,  254,  254,\n",
       "           254,  194,   48,   48,   34,   41,   48,  209,  254,  254,\n",
       "           254,  171,    0,    0,    0,    0,    0,    0],\n",
       "         [   0,    0,    0,    0,    0,    0,    0,   86,  243,  254,\n",
       "           254,  254,  254,  254,  233,  243,  254,  254,  254,  254,\n",
       "           254,   86,    0,    0,    0,    0,    0,    0],\n",
       "         [   0,    0,    0,    0,    0,    0,    0,    0,  114,  254,\n",
       "           254,  254,  254,  254,  254,  254,  254,  254,  254,  239,\n",
       "            86,   11,    0,    0,    0,    0,    0,    0],\n",
       "         [   0,    0,    0,    0,    0,    0,    0,    0,   13,  182,\n",
       "           254,  254,  254,  254,  254,  254,  254,  254,  243,   70,\n",
       "             0,    0,    0,    0,    0,    0,    0,    0],\n",
       "         [   0,    0,    0,    0,    0,    0,    0,    0,    0,    8,\n",
       "            76,  146,  254,  255,  254,  255,  146,   19,   15,    0,\n",
       "             0,    0,    0,    0,    0,    0,    0,    0],\n",
       "         [   0,    0,    0,    0,    0,    0,    0,    0,    0,    0,\n",
       "             0,    0,    0,    0,    0,    0,    0,    0,    0,    0,\n",
       "             0,    0,    0,    0,    0,    0,    0,    0],\n",
       "         [   0,    0,    0,    0,    0,    0,    0,    0,    0,    0,\n",
       "             0,    0,    0,    0,    0,    0,    0,    0,    0,    0,\n",
       "             0,    0,    0,    0,    0,    0,    0,    0],\n",
       "         [   0,    0,    0,    0,    0,    0,    0,    0,    0,    0,\n",
       "             0,    0,    0,    0,    0,    0,    0,    0,    0,    0,\n",
       "             0,    0,    0,    0,    0,    0,    0,    0],\n",
       "         [   0,    0,    0,    0,    0,    0,    0,    0,    0,    0,\n",
       "             0,    0,    0,    0,    0,    0,    0,    0,    0,    0,\n",
       "             0,    0,    0,    0,    0,    0,    0,    0]], dtype=torch.uint8),\n",
       " 0)"
      ]
     },
     "execution_count": 8,
     "metadata": {},
     "output_type": "execute_result"
    }
   ],
   "source": [
    "array"
   ]
  },
  {
   "cell_type": "code",
   "execution_count": null,
   "metadata": {},
   "outputs": [],
   "source": []
  }
 ],
 "metadata": {
  "kernelspec": {
   "display_name": "Python 3",
   "language": "python",
   "name": "python3"
  },
  "language_info": {
   "codemirror_mode": {
    "name": "ipython",
    "version": 3
   },
   "file_extension": ".py",
   "mimetype": "text/x-python",
   "name": "python",
   "nbconvert_exporter": "python",
   "pygments_lexer": "ipython3",
   "version": "3.6.4"
  }
 },
 "nbformat": 4,
 "nbformat_minor": 2
}
